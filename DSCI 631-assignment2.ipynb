{
 "cells": [
  {
   "cell_type": "markdown",
   "metadata": {},
   "source": [
    "##### <h1 style=\"text-align:center\"> Drexel University </h1>\n",
    "<h2 style = \"text-align:center\"> College of Computing and Informatics</h2>\n",
    "<h2 style = \"text-align:center\">DSCI 631: Applied Machine Learning</h2>\n",
    "<h3 style = \"text-align:center\">Assignment 2</h3>\n",
    "<h4> </h4>\n",
    "\n",
    "\n",
    "<h3 style=\"color:red; font-weight:bold; text-decoration: underline\">DON'T FORGET TO PUT YOUR TEAM MEMBERS' NAMES BELOW</h3>\n",
    "### TEAM MEMBERS:\n",
    "\n",
    "### A. Assignment Overview\n",
    "This assignment provides the opportunity for you to practice with various skills in feature analysis, feature selection, bclassification (imbalance handling), regression and model tuning.\n",
    "\n",
    "<h4 style=\"color:blue; font-weight:bold\">The goal of this assignment is to provide a realistic setting for a machine learning task. Therefore instructions will not specify the exact steps to carry out. Instead, it is part of the assignment to identify promising features, models and preprocessing methods and apply them as appropriate.</h4>\n",
    "\n",
    "\n",
    "### B. What to Hand In\n",
    "\t\n",
    "Sumbit a completed this Jupyter notebook. \n",
    "\n",
    "### C. How to Hand In\n",
    "\n",
    "Submit your Jupyter notebook file through the course website in the Blackboard Learn system.\n",
    "\n",
    "### D. When to Hand In\n",
    "\n",
    "1. Submit your assignment no later than 11:59 pm in the due date.\n",
    "2. There will be a 10% (absolute value) deduction for each day of lateness, to a maximum of 3 days; assignments will not be accepted beyond that point. Missing work will earn a zero grade.\n",
    "\n",
    "### E. Written Presentation Requirements (if applicable)\n",
    "Images must be clear and legible. Assignments will be judged on the basis of visual appearance, grammatical correctness, and quality of writing, as well as their contents. Please make sure that the text of your assignments is well-structured, using paragraphs, full sentences, and other features of well-written presentation.\n",
    "\n",
    "### F. Academic Honesty\n",
    "\n",
    "Each student is required to submit the Academic Honesty Form at the beginning of the term to cover all the deliverables (for example: assignments, projects, quizzes). Each piece of work must be original. That means, individual quizzes must be done individually without discussing and collaborating with anybody else. Team assignments must be written and programmed by your own team members. No team should copy any piece of work from other teams. The Drexel University Academic Honesty Rules and Procedures (as stated in the student handbook) will be adhered to strictly.  \n",
    "\n",
    "### G. Marking Schemes:\n",
    "\n",
    "Marking assignments will be based on several aspects: presentation, correctness and coding styles. \n",
    "\n",
    "For programming questions, 10% of the mark will be judged on the coding style. \n",
    "\n",
    "The following is a set of guidelines for the coding style in this course:\n",
    "1. Write a good comment.\n",
    "2. Use appropriate indentations to indicate control flows and blocks of code. \n",
    "3. When breaking up a long line, break it before an operator, not after. \n",
    "\n",
    "### H. Answer the following questions: \n",
    "**Your answer should be combined with code and brief text answer.** Please ensure that your Jupyter notebook does not have too much spurious output. If you like, you can share your notebook in progress with me on Kaggle: leiwangv (lw474@drexel.edu)\n"
   ]
  },
  {
   "cell_type": "markdown",
   "metadata": {},
   "source": [
    "### Data for Binary Classification in this assignment:\n",
    "* URL: https://www.kaggle.com/lodetomasi1995/income-classification\n",
    "* On Kaggel Notebook, you can add the data set by searching the above URL\n",
    "* Column “income” is the target label to classify.\n",
    "\n"
   ]
  },
  {
   "cell_type": "code",
   "execution_count": null,
   "metadata": {},
   "outputs": [],
   "source": [
    "# On Kaggle Notebook, after adding the data, you can import the data as Pandas DataFrame as follows\n",
    "import pandas as pd\n",
    "df = pd.read_csv(\"../input/income-classification/income_evaluation.csv\")"
   ]
  },
  {
   "cell_type": "markdown",
   "metadata": {},
   "source": [
    "#### Question 1-1:\n",
    "Examine the features of the data. Identify which feature is continuous and which feature is categorical. Make some analyses and statistics, then use the results to discuss your selected predictors. You may also derive new features."
   ]
  },
  {
   "cell_type": "code",
   "execution_count": null,
   "metadata": {},
   "outputs": [],
   "source": []
  },
  {
   "cell_type": "markdown",
   "metadata": {},
   "source": [
    "#### Question 1-2:\n",
    "Check if the target label is balanced or not, what is your strategy if imbalanced? apply your strategy."
   ]
  },
  {
   "cell_type": "code",
   "execution_count": null,
   "metadata": {},
   "outputs": [],
   "source": []
  },
  {
   "cell_type": "markdown",
   "metadata": {},
   "source": [
    "#### Question 1-3: \n",
    "Split the data into train and test data, then build Pipeline, apply transformer as needed, train 3 out of the following algorithms (Logistic Regression, Support Vector Machines, Naïve Bayes, K-Nearest Neighbors, Tree) with hyperparameter tuning, to classify the \"income\". Compare the performance of different algorithms on Test set. Discuss your results and findings."
   ]
  },
  {
   "cell_type": "code",
   "execution_count": null,
   "metadata": {},
   "outputs": [],
   "source": []
  },
  {
   "cell_type": "markdown",
   "metadata": {},
   "source": [
    "#### Question 1-4:\n",
    "Identify features that are important from your best model. Which features are most influential? Which features could be removed without decrease in performance? Does removing irrelevant features make your model better?"
   ]
  },
  {
   "cell_type": "code",
   "execution_count": null,
   "metadata": {},
   "outputs": [],
   "source": []
  },
  {
   "cell_type": "markdown",
   "metadata": {},
   "source": [
    "### Data for part 2 in this assignment (price prediction):\n",
    "* URL: https://www.kaggle.com/austinreese/craigslist-carstrucks-data\n",
    "* On Kaggle Notebook, you can add the data set by searching the above URL\n",
    "* You do not have to use the whole dataset, it is strongly recommended that you subsample the data while developing your solution.\n",
    "* The goal of this part is to provide a realistic setting for a machine learning task. Therefore instructions will not specify the exact steps to carry out. Instead, it is part of the assignment to identify promising features, models and preprocessing methods and apply them as appropriate."
   ]
  },
  {
   "cell_type": "code",
   "execution_count": null,
   "metadata": {},
   "outputs": [],
   "source": [
    "# On Kaggle Notebook, after adding the data, you can import the data as Pandas DataFrame as follows\n",
    "import pandas as pd\n",
    "df_vehicle = pd.read_csv(\"../input/craigslistVehicles.csv\")"
   ]
  },
  {
   "cell_type": "markdown",
   "metadata": {},
   "source": [
    "#### Question 2-1:\n",
    "Assemble a dataset consisting of predictors/features and target variable from subsampled data. \n",
    "\n",
    "What features are relevant for the prediction task?\n",
    "Are there any features that should be excluded because they leak the target information?\n",
    "Show visualizations or statistics to support your selection."
   ]
  },
  {
   "cell_type": "code",
   "execution_count": null,
   "metadata": {},
   "outputs": [],
   "source": []
  },
  {
   "cell_type": "markdown",
   "metadata": {},
   "source": [
    "#### Question 2-2:\n",
    "Perform feature selection with a linear model, with appropriate preprocessing and cross-validation, evaluate the generalization performance. "
   ]
  },
  {
   "cell_type": "code",
   "execution_count": null,
   "metadata": {},
   "outputs": [],
   "source": []
  },
  {
   "cell_type": "markdown",
   "metadata": {},
   "source": [
    "#### Question 2-3:\n",
    "Use any one or more non-linear regression model(s) we have introduced (tree, forest, gradient boosting, etc) to improve your result. You can (and probably should) change your preprocessing and feature engineering to be suitable for the model, tune hyperparameters as appropriate. What is the best prediction you can get? Discuss your work here.\n",
    "\n",
    "You are not required to try all of these models. "
   ]
  },
  {
   "cell_type": "code",
   "execution_count": null,
   "metadata": {},
   "outputs": [],
   "source": []
  }
 ],
 "metadata": {
  "kernelspec": {
   "display_name": "Python 3",
   "language": "python",
   "name": "python3"
  },
  "language_info": {
   "codemirror_mode": {
    "name": "ipython",
    "version": 3
   },
   "file_extension": ".py",
   "mimetype": "text/x-python",
   "name": "python",
   "nbconvert_exporter": "python",
   "pygments_lexer": "ipython3",
   "version": "3.8.6"
  }
 },
 "nbformat": 4,
 "nbformat_minor": 4
}
